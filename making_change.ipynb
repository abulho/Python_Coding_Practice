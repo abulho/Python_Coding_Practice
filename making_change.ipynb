{
 "cells": [
  {
   "cell_type": "markdown",
   "metadata": {},
   "source": [
    "### Your quirky boss collects rare, old coins...\n",
    "\n",
    "    They found out you're a programmer and asked you to solve something they've been wondering for a long time.\n",
    "\n",
    "    Write a function that, given:\n",
    "\n",
    "    an amount of money\n",
    "    a list of coin denominations\n",
    "    computes the number of ways to make the amount of money with coins of the available denominations.\n",
    "\n",
    "    Example: for amount = 4 (4¢) and denominations=[1,2,3] (1¢, 2¢ and 3¢), your program would output \n",
    "    4—the number of ways to make 4¢ with those denominations:\n",
    "\n",
    "        1¢, 1¢, 1¢, 1¢\n",
    "        1¢, 1¢, 2¢\n",
    "        1¢, 3¢\n",
    "        2¢, 2¢"
   ]
  },
  {
   "cell_type": "code",
   "execution_count": 49,
   "metadata": {
    "collapsed": true
   },
   "outputs": [],
   "source": [
    "coins = [1,2,3]\n",
    "amount = 4"
   ]
  },
  {
   "cell_type": "code",
   "execution_count": 50,
   "metadata": {},
   "outputs": [],
   "source": [
    "def possible_combinations_change(amount_left, coins, index=0):\n",
    "    '''This function will return the number of ways you can make exact change, given a amount \n",
    "    and some denominations of coins\n",
    "    \n",
    "    Paramters:\n",
    "    ---------\n",
    "    amount_left = To begin, this will be the amount to start with, at each recursive step, this will\n",
    "                  updated base on the coin denomination in consideration\n",
    "    coin = This is denomination of coins to consider\n",
    "    index = This is the index to start the calculations. Initiates at 0 and will go through all the coins\n",
    "    \n",
    "    Returns:\n",
    "    -------\n",
    "    The number of ways you can make change, given a total amount, and coin denominations\n",
    "\n",
    "    '''\n",
    "    # this is the base case \n",
    "    # example we are trying to make change for 4, and we hit 4 \n",
    "    if amount_left == 0:\n",
    "        return 1\n",
    "    \n",
    "    # this is the case when we use a larger coin\n",
    "    # example we trying to make change for 4 and we hit a 5\n",
    "    if amount_left < 0:\n",
    "        return 0\n",
    "    \n",
    "    # this is the case when we run out of coins\n",
    "    if index == len(coins):\n",
    "        return 0\n",
    "    \n",
    "    # printing out the amount left and what is being used to make change\n",
    "    print('making change for {} with {}'.format(amount_left, coins[index:]))\n",
    "    \n",
    "    # getting the current coin\n",
    "    current_coin = coins[index]\n",
    "    \n",
    "    number_of_ways = 0\n",
    "    while amount_left >= 0:\n",
    "        number_of_ways = number_of_ways + possible_combinations_change(amount_left, coins, index + 1)\n",
    "        amount_left = amount_left - current_coin\n",
    "        \n",
    "    return number_of_ways   "
   ]
  },
  {
   "cell_type": "code",
   "execution_count": 51,
   "metadata": {},
   "outputs": [
    {
     "name": "stdout",
     "output_type": "stream",
     "text": [
      "making change for 4 with [1, 2, 3]\n",
      "making change for 4 with [2, 3]\n",
      "making change for 4 with [3]\n",
      "making change for 2 with [3]\n",
      "making change for 3 with [2, 3]\n",
      "making change for 3 with [3]\n",
      "making change for 1 with [3]\n",
      "making change for 2 with [2, 3]\n",
      "making change for 2 with [3]\n",
      "making change for 1 with [2, 3]\n",
      "making change for 1 with [3]\n"
     ]
    },
    {
     "data": {
      "text/plain": [
       "4"
      ]
     },
     "execution_count": 51,
     "metadata": {},
     "output_type": "execute_result"
    }
   ],
   "source": [
    "possible_combinations_change(amount,coins)"
   ]
  },
  {
   "cell_type": "code",
   "execution_count": null,
   "metadata": {
    "collapsed": true
   },
   "outputs": [],
   "source": []
  },
  {
   "cell_type": "code",
   "execution_count": null,
   "metadata": {
    "collapsed": true
   },
   "outputs": [],
   "source": []
  },
  {
   "cell_type": "code",
   "execution_count": null,
   "metadata": {
    "collapsed": true
   },
   "outputs": [],
   "source": []
  },
  {
   "cell_type": "code",
   "execution_count": null,
   "metadata": {
    "collapsed": true
   },
   "outputs": [],
   "source": []
  }
 ],
 "metadata": {
  "kernelspec": {
   "display_name": "Python 3",
   "language": "python",
   "name": "python3"
  },
  "language_info": {
   "codemirror_mode": {
    "name": "ipython",
    "version": 3
   },
   "file_extension": ".py",
   "mimetype": "text/x-python",
   "name": "python",
   "nbconvert_exporter": "python",
   "pygments_lexer": "ipython3",
   "version": "3.6.3"
  }
 },
 "nbformat": 4,
 "nbformat_minor": 2
}
